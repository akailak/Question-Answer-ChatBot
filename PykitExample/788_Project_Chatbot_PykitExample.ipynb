{
  "cells": [
    {
      "cell_type": "markdown",
      "source": [
        "# 788 Project - Basic 2"
      ],
      "metadata": {
        "id": "_NBlwB4chQql"
      }
    },
    {
      "cell_type": "markdown",
      "source": [
        "Primary Resource for this code was https://pykit.org/chatbot-in-python-using-nlp/ for loading in the data, pre-processing it, and creating the chatbot. The Nueral Network and hyperparamters were modified by us to fit our specific application and needs.\n",
        "\n",
        "Using this solution for our purposes involved heavily reformatting our data to use this model which is why there is only a small sample of data used. \n",
        "\n"
      ],
      "metadata": {
        "id": "ZcW0gAmfEJP9"
      }
    },
    {
      "cell_type": "code",
      "source": [
        "#mouting google drive to import data saved on it\n",
        "from google.colab import drive\n",
        "drive.mount('/content/drive', force_remount=True)"
      ],
      "metadata": {
        "colab": {
          "base_uri": "https://localhost:8080/"
        },
        "id": "RV_GOp9AKiLd",
        "outputId": "00181877-5f37-4c77-a3ab-7da15e5c9aec"
      },
      "execution_count": 15,
      "outputs": [
        {
          "output_type": "stream",
          "name": "stdout",
          "text": [
            "Mounted at /content/drive\n"
          ]
        }
      ]
    },
    {
      "cell_type": "markdown",
      "source": [
        "Import Libraries"
      ],
      "metadata": {
        "id": "_Mmsowdvhdi5"
      }
    },
    {
      "cell_type": "code",
      "execution_count": 16,
      "metadata": {
        "id": "wj8edLPwshk9"
      },
      "outputs": [],
      "source": [
        "# import necessary libraries\n",
        "import warnings\n",
        "warnings.filterwarnings(\"ignore\")\n",
        "import nltk\n",
        "from nltk.stem import WordNetLemmatizer\n",
        "import json\n",
        "import pickle\n",
        "import numpy as np\n",
        "import tensorflow as tf\n",
        "from tensorflow.keras.models import Sequential\n",
        "from tensorflow.keras.layers import Dense, Activation, Dropout\n",
        "import random\n",
        "from keras.models import load_model\n",
        "import matplotlib.pyplot as plt\n",
        "import pandas as pd"
      ]
    },
    {
      "cell_type": "markdown",
      "source": [
        "Creating the Lemmatizer and importing the modified (sample) dataset in json form"
      ],
      "metadata": {
        "id": "Tge9t42phlgW"
      }
    },
    {
      "cell_type": "code",
      "source": [
        "lemmatizer = WordNetLemmatizer()\n",
        "\n",
        "words=[]\n",
        "classes = []\n",
        "documents = []\n",
        "ignore_words = ['?', '!']\n",
        "data_file = open(\"/content/drive/MyDrive/QA.json\").read()\n",
        "intents = json.loads(data_file)"
      ],
      "metadata": {
        "id": "2cH1o4g0hjOc"
      },
      "execution_count": 17,
      "outputs": []
    },
    {
      "cell_type": "markdown",
      "metadata": {
        "id": "6MItt3kYshk-"
      },
      "source": [
        "Data Pre-Processing\n",
        "\n",
        "Tokenizing the words"
      ]
    },
    {
      "cell_type": "code",
      "execution_count": 18,
      "metadata": {
        "colab": {
          "base_uri": "https://localhost:8080/"
        },
        "id": "Iw-nNla4shk-",
        "outputId": "16c34487-c83b-4e58-9332-24561f30eca3"
      },
      "outputs": [
        {
          "output_type": "stream",
          "name": "stdout",
          "text": [
            "[nltk_data] Downloading package punkt to /root/nltk_data...\n",
            "[nltk_data]   Package punkt is already up-to-date!\n",
            "[nltk_data] Downloading package wordnet to /root/nltk_data...\n",
            "[nltk_data]   Package wordnet is already up-to-date!\n"
          ]
        }
      ],
      "source": [
        "nltk.download('punkt')\n",
        "nltk.download('wordnet')\n",
        "for intent in intents['intents']:\n",
        "    for pattern in intent['patterns']:\n",
        "\n",
        "        #tokenize each word\n",
        "        w = nltk.word_tokenize(pattern)\n",
        "        words.extend(w)\n",
        "        #add documents in the corpus\n",
        "        documents.append((w, intent['tag']))\n",
        "\n",
        "        # add to our classes list\n",
        "        if intent['tag'] not in classes:\n",
        "            classes.append(intent['tag'])"
      ]
    },
    {
      "cell_type": "markdown",
      "source": [
        "Lematizing the words and sorting "
      ],
      "metadata": {
        "id": "jkxHPDjkiCM0"
      }
    },
    {
      "cell_type": "code",
      "execution_count": 19,
      "metadata": {
        "colab": {
          "base_uri": "https://localhost:8080/"
        },
        "id": "-BMx_zKyshk_",
        "outputId": "a4ca1b37-a4a1-4f6f-a3f8-87960849abe0"
      },
      "outputs": [
        {
          "output_type": "stream",
          "name": "stdout",
          "text": [
            "60 documents\n",
            "14 classes ['1', '2', 'Amedo Avogadro', 'Anders Celsius', 'Calvin Coolidge', 'Canada', 'Egypt', 'Elephant', 'Exit', 'Finland', 'Gerald Ford', 'Intro', 'beetle', 'duck']\n",
            "138 unique lemmatized words [\"'s\", ',', 'a', 'abraham', 'adapted', 'addition', 'african', 'after', 'aifl', 'aiml', 'am', 'amedo', 'amherst', 'and', 'anders', 'anyone', 'are', 'atmospheric', 'avogadro', 'avogradro', 'batch', 'beetle', 'belong', 'best', 'blended', 'body', 'boiling', 'buddy', 'canada', 'catch', 'celcius', 'champlain', 'contribution', 'coolidge', 'cya', 'day', 'de', 'dependence', 'determined', 'did', 'do', 'doe', 'duck', 'education', 'egypt', 'elephant', 'else', 'establish', 'finland', 'first', 'fish', 'for', 'ford', 'formal', 'from', 'good', 'goodbye', 'graduating', 'great', 'have', 'hello', 'help', 'helped', 'hey', 'hi', 'his', 'house', 'how', 'i', 'in', 'is', 'large', 'later', 'learner', 'learning', 'leaving', 'lie', 'lincoln', 'listen', 'live', 'living', 'long', 'lot', 'many', 'me', 'member', 'molarity', 'molecular', 'most', 'my', 'name', 'near', 'nile', 'noted', 'of', 'online', 'please', 'pm', 'population', 'port', 'president', 'pressure', 'representative', 'royal', 'samuel', 'section', 'see', 'settlement', 'sixteenth', 'south', 'specialized', 'specie', 'state', 'talking', 'thank', 'thanks', 'the', 'theory', 'there', 'three', 'time', 'to', 'ton', 'too', 'united', 'up', 'wa', 'water', 'weight', 'what', 'whats', 'where', 'who', 'why', 'with', 'ya', 'yo', 'you']\n"
          ]
        }
      ],
      "source": [
        "words = [lemmatizer.lemmatize(w.lower()) for w in words if w not in ignore_words]\n",
        "words = sorted(list(set(words)))\n",
        "\n",
        "classes = sorted(list(set(classes)))\n",
        "\n",
        "print (len(documents), \"documents\")\n",
        "\n",
        "print (len(classes), \"classes\", classes)\n",
        "\n",
        "print (len(words), \"unique lemmatized words\", words)\n",
        "\n",
        "# creating a pickle file to store the Python objects which we will use while predicting\n",
        "pickle.dump(words,open('words.pkl','wb')) \n",
        "pickle.dump(classes,open('classes.pkl','wb'))"
      ]
    },
    {
      "cell_type": "markdown",
      "metadata": {
        "id": "XR-oqJ0wshlA"
      },
      "source": [
        "Creating Training Data\n",
        "\n",
        "Training data for this example is formated into a 'Bag of words'. This allows the Neural Network to learn the context of the sentences and how many times each word appear in a given sentence. \n",
        "\n",
        "From there, the data is shuffled and put into numpy arrays for training purposes"
      ]
    },
    {
      "cell_type": "code",
      "execution_count": 20,
      "metadata": {
        "colab": {
          "base_uri": "https://localhost:8080/"
        },
        "id": "LoM-44d9shlA",
        "outputId": "d7a6c03b-b07e-4a97-cf8c-728daee09864"
      },
      "outputs": [
        {
          "output_type": "stream",
          "name": "stdout",
          "text": [
            "Training data created\n"
          ]
        }
      ],
      "source": [
        "# create our training data\n",
        "training = []\n",
        "\n",
        "# create an empty array for our output\n",
        "output_empty = [0] * len(classes)\n",
        "\n",
        "# training set, bag of words for each sentence\n",
        "for doc in documents:\n",
        "    # initialize our bag of words\n",
        "    bag = []\n",
        "    # list of tokenized words for the pattern\n",
        "    pattern_words = doc[0]\n",
        "   \n",
        "    # lemmatize each word - create base word, in attempt to represent related words\n",
        "    pattern_words = [lemmatizer.lemmatize(word.lower()) for word in pattern_words]\n",
        "    \n",
        "    # create our bag of words array with 1, if word match found in current pattern\n",
        "    for w in words:\n",
        "        bag.append(1) if w in pattern_words else bag.append(0)\n",
        "    # output is a '0' for each tag and '1' for current tag (for each pattern)\n",
        "    output_row = list(output_empty)\n",
        "    output_row[classes.index(doc[1])] = 1\n",
        "    training.append([bag, output_row])\n",
        "\n",
        "# shuffle features and converting it into numpy arrays\n",
        "random.shuffle(training)\n",
        "training = np.array(training)\n",
        "\n",
        "# create train and test lists\n",
        "train_x = list(training[:,0])\n",
        "train_y = list(training[:,1])\n",
        "\n",
        "print(\"Training data created\")"
      ]
    },
    {
      "cell_type": "markdown",
      "metadata": {
        "id": "cJM2R1NHshlB"
      },
      "source": [
        "# Creating NN Model\n",
        "\n",
        "The model from the pykit example had very good results but for our project we wanted to design our own so adding more dense and dropout layers, adjusting the activation layers, and switching to a different optimizer allowed us maintain a very high accuracy, achive a low loss, and train on less epochs than the example.\n",
        "\n",
        "If we were using our entire dataset, we may have to modify these hyperparameters based on the results with more question and asnwer pairs."
      ]
    },
    {
      "cell_type": "code",
      "execution_count": 21,
      "metadata": {
        "colab": {
          "base_uri": "https://localhost:8080/"
        },
        "id": "9VWroJgFshlB",
        "outputId": "a712c583-9a05-4013-f97b-fc1f0fd2a261"
      },
      "outputs": [
        {
          "output_type": "stream",
          "name": "stdout",
          "text": [
            "Epoch 1/100\n",
            "12/12 [==============================] - 0s 2ms/step - loss: 3.5939 - accuracy: 0.0667\n",
            "Epoch 2/100\n",
            "12/12 [==============================] - 0s 3ms/step - loss: 2.6112 - accuracy: 0.2667\n",
            "Epoch 3/100\n",
            "12/12 [==============================] - 0s 3ms/step - loss: 2.1399 - accuracy: 0.3167\n",
            "Epoch 4/100\n",
            "12/12 [==============================] - 0s 2ms/step - loss: 2.0914 - accuracy: 0.3333\n",
            "Epoch 5/100\n",
            "12/12 [==============================] - 0s 2ms/step - loss: 2.0658 - accuracy: 0.2833\n",
            "Epoch 6/100\n",
            "12/12 [==============================] - 0s 2ms/step - loss: 1.9375 - accuracy: 0.4500\n",
            "Epoch 7/100\n",
            "12/12 [==============================] - 0s 2ms/step - loss: 1.9999 - accuracy: 0.4333\n",
            "Epoch 8/100\n",
            "12/12 [==============================] - 0s 2ms/step - loss: 1.8632 - accuracy: 0.4500\n",
            "Epoch 9/100\n",
            "12/12 [==============================] - 0s 2ms/step - loss: 1.6570 - accuracy: 0.4500\n",
            "Epoch 10/100\n",
            "12/12 [==============================] - 0s 3ms/step - loss: 1.7020 - accuracy: 0.4500\n",
            "Epoch 11/100\n",
            "12/12 [==============================] - 0s 2ms/step - loss: 1.5586 - accuracy: 0.4667\n",
            "Epoch 12/100\n",
            "12/12 [==============================] - 0s 2ms/step - loss: 1.4904 - accuracy: 0.5667\n",
            "Epoch 13/100\n",
            "12/12 [==============================] - 0s 2ms/step - loss: 1.1875 - accuracy: 0.6833\n",
            "Epoch 14/100\n",
            "12/12 [==============================] - 0s 2ms/step - loss: 1.1558 - accuracy: 0.6500\n",
            "Epoch 15/100\n",
            "12/12 [==============================] - 0s 2ms/step - loss: 1.0703 - accuracy: 0.6833\n",
            "Epoch 16/100\n",
            "12/12 [==============================] - 0s 2ms/step - loss: 0.9971 - accuracy: 0.7833\n",
            "Epoch 17/100\n",
            "12/12 [==============================] - 0s 2ms/step - loss: 0.8265 - accuracy: 0.7833\n",
            "Epoch 18/100\n",
            "12/12 [==============================] - 0s 2ms/step - loss: 0.8679 - accuracy: 0.7333\n",
            "Epoch 19/100\n",
            "12/12 [==============================] - 0s 2ms/step - loss: 0.7945 - accuracy: 0.7500\n",
            "Epoch 20/100\n",
            "12/12 [==============================] - 0s 2ms/step - loss: 0.7117 - accuracy: 0.8167\n",
            "Epoch 21/100\n",
            "12/12 [==============================] - 0s 2ms/step - loss: 0.6435 - accuracy: 0.8667\n",
            "Epoch 22/100\n",
            "12/12 [==============================] - 0s 2ms/step - loss: 0.5751 - accuracy: 0.8833\n",
            "Epoch 23/100\n",
            "12/12 [==============================] - 0s 2ms/step - loss: 0.5726 - accuracy: 0.8500\n",
            "Epoch 24/100\n",
            "12/12 [==============================] - 0s 2ms/step - loss: 0.5334 - accuracy: 0.9000\n",
            "Epoch 25/100\n",
            "12/12 [==============================] - 0s 2ms/step - loss: 0.4245 - accuracy: 0.9667\n",
            "Epoch 26/100\n",
            "12/12 [==============================] - 0s 2ms/step - loss: 0.4862 - accuracy: 0.8833\n",
            "Epoch 27/100\n",
            "12/12 [==============================] - 0s 2ms/step - loss: 0.4752 - accuracy: 0.9000\n",
            "Epoch 28/100\n",
            "12/12 [==============================] - 0s 2ms/step - loss: 0.3852 - accuracy: 0.9500\n",
            "Epoch 29/100\n",
            "12/12 [==============================] - 0s 2ms/step - loss: 0.4015 - accuracy: 0.9667\n",
            "Epoch 30/100\n",
            "12/12 [==============================] - 0s 2ms/step - loss: 0.3566 - accuracy: 0.9500\n",
            "Epoch 31/100\n",
            "12/12 [==============================] - 0s 2ms/step - loss: 0.3336 - accuracy: 0.9667\n",
            "Epoch 32/100\n",
            "12/12 [==============================] - 0s 2ms/step - loss: 0.2736 - accuracy: 0.9833\n",
            "Epoch 33/100\n",
            "12/12 [==============================] - 0s 2ms/step - loss: 0.2679 - accuracy: 0.9833\n",
            "Epoch 34/100\n",
            "12/12 [==============================] - 0s 2ms/step - loss: 0.2598 - accuracy: 0.9833\n",
            "Epoch 35/100\n",
            "12/12 [==============================] - 0s 2ms/step - loss: 0.1932 - accuracy: 1.0000\n",
            "Epoch 36/100\n",
            "12/12 [==============================] - 0s 2ms/step - loss: 0.2866 - accuracy: 0.9333\n",
            "Epoch 37/100\n",
            "12/12 [==============================] - 0s 2ms/step - loss: 0.2347 - accuracy: 0.9833\n",
            "Epoch 38/100\n",
            "12/12 [==============================] - 0s 2ms/step - loss: 0.2085 - accuracy: 0.9833\n",
            "Epoch 39/100\n",
            "12/12 [==============================] - 0s 2ms/step - loss: 0.2072 - accuracy: 0.9833\n",
            "Epoch 40/100\n",
            "12/12 [==============================] - 0s 2ms/step - loss: 0.1987 - accuracy: 0.9833\n",
            "Epoch 41/100\n",
            "12/12 [==============================] - 0s 2ms/step - loss: 0.1685 - accuracy: 1.0000\n",
            "Epoch 42/100\n",
            "12/12 [==============================] - 0s 2ms/step - loss: 0.2336 - accuracy: 0.9667\n",
            "Epoch 43/100\n",
            "12/12 [==============================] - 0s 2ms/step - loss: 0.2036 - accuracy: 0.9500\n",
            "Epoch 44/100\n",
            "12/12 [==============================] - 0s 2ms/step - loss: 0.1832 - accuracy: 1.0000\n",
            "Epoch 45/100\n",
            "12/12 [==============================] - 0s 2ms/step - loss: 0.1644 - accuracy: 0.9833\n",
            "Epoch 46/100\n",
            "12/12 [==============================] - 0s 2ms/step - loss: 0.1151 - accuracy: 1.0000\n",
            "Epoch 47/100\n",
            "12/12 [==============================] - 0s 2ms/step - loss: 0.1176 - accuracy: 1.0000\n",
            "Epoch 48/100\n",
            "12/12 [==============================] - 0s 2ms/step - loss: 0.1741 - accuracy: 1.0000\n",
            "Epoch 49/100\n",
            "12/12 [==============================] - 0s 2ms/step - loss: 0.1254 - accuracy: 0.9833\n",
            "Epoch 50/100\n",
            "12/12 [==============================] - 0s 2ms/step - loss: 0.1519 - accuracy: 0.9833\n",
            "Epoch 51/100\n",
            "12/12 [==============================] - 0s 2ms/step - loss: 0.1191 - accuracy: 0.9833\n",
            "Epoch 52/100\n",
            "12/12 [==============================] - 0s 2ms/step - loss: 0.1276 - accuracy: 0.9833\n",
            "Epoch 53/100\n",
            "12/12 [==============================] - 0s 2ms/step - loss: 0.0915 - accuracy: 1.0000\n",
            "Epoch 54/100\n",
            "12/12 [==============================] - 0s 2ms/step - loss: 0.0612 - accuracy: 1.0000\n",
            "Epoch 55/100\n",
            "12/12 [==============================] - 0s 2ms/step - loss: 0.1379 - accuracy: 0.9667\n",
            "Epoch 56/100\n",
            "12/12 [==============================] - 0s 2ms/step - loss: 0.1119 - accuracy: 1.0000\n",
            "Epoch 57/100\n",
            "12/12 [==============================] - 0s 2ms/step - loss: 0.1025 - accuracy: 0.9833\n",
            "Epoch 58/100\n",
            "12/12 [==============================] - 0s 2ms/step - loss: 0.1091 - accuracy: 1.0000\n",
            "Epoch 59/100\n",
            "12/12 [==============================] - 0s 2ms/step - loss: 0.0723 - accuracy: 1.0000\n",
            "Epoch 60/100\n",
            "12/12 [==============================] - 0s 2ms/step - loss: 0.1027 - accuracy: 1.0000\n",
            "Epoch 61/100\n",
            "12/12 [==============================] - 0s 2ms/step - loss: 0.0668 - accuracy: 1.0000\n",
            "Epoch 62/100\n",
            "12/12 [==============================] - 0s 2ms/step - loss: 0.0581 - accuracy: 1.0000\n",
            "Epoch 63/100\n",
            "12/12 [==============================] - 0s 2ms/step - loss: 0.1148 - accuracy: 0.9833\n",
            "Epoch 64/100\n",
            "12/12 [==============================] - 0s 2ms/step - loss: 0.0598 - accuracy: 1.0000\n",
            "Epoch 65/100\n",
            "12/12 [==============================] - 0s 2ms/step - loss: 0.0644 - accuracy: 1.0000\n",
            "Epoch 66/100\n",
            "12/12 [==============================] - 0s 2ms/step - loss: 0.0810 - accuracy: 0.9833\n",
            "Epoch 67/100\n",
            "12/12 [==============================] - 0s 4ms/step - loss: 0.0764 - accuracy: 1.0000\n",
            "Epoch 68/100\n",
            "12/12 [==============================] - 0s 2ms/step - loss: 0.0659 - accuracy: 1.0000\n",
            "Epoch 69/100\n",
            "12/12 [==============================] - 0s 2ms/step - loss: 0.0583 - accuracy: 1.0000\n",
            "Epoch 70/100\n",
            "12/12 [==============================] - 0s 2ms/step - loss: 0.0858 - accuracy: 0.9833\n",
            "Epoch 71/100\n",
            "12/12 [==============================] - 0s 2ms/step - loss: 0.0666 - accuracy: 1.0000\n",
            "Epoch 72/100\n",
            "12/12 [==============================] - 0s 3ms/step - loss: 0.0463 - accuracy: 1.0000\n",
            "Epoch 73/100\n",
            "12/12 [==============================] - 0s 2ms/step - loss: 0.0626 - accuracy: 1.0000\n",
            "Epoch 74/100\n",
            "12/12 [==============================] - 0s 2ms/step - loss: 0.0896 - accuracy: 1.0000\n",
            "Epoch 75/100\n",
            "12/12 [==============================] - 0s 3ms/step - loss: 0.0509 - accuracy: 1.0000\n",
            "Epoch 76/100\n",
            "12/12 [==============================] - 0s 2ms/step - loss: 0.0690 - accuracy: 0.9833\n",
            "Epoch 77/100\n",
            "12/12 [==============================] - 0s 2ms/step - loss: 0.0391 - accuracy: 1.0000\n",
            "Epoch 78/100\n",
            "12/12 [==============================] - 0s 2ms/step - loss: 0.0602 - accuracy: 0.9833\n",
            "Epoch 79/100\n",
            "12/12 [==============================] - 0s 2ms/step - loss: 0.0510 - accuracy: 1.0000\n",
            "Epoch 80/100\n",
            "12/12 [==============================] - 0s 2ms/step - loss: 0.0431 - accuracy: 1.0000\n",
            "Epoch 81/100\n",
            "12/12 [==============================] - 0s 2ms/step - loss: 0.0379 - accuracy: 1.0000\n",
            "Epoch 82/100\n",
            "12/12 [==============================] - 0s 2ms/step - loss: 0.0372 - accuracy: 1.0000\n",
            "Epoch 83/100\n",
            "12/12 [==============================] - 0s 3ms/step - loss: 0.0528 - accuracy: 0.9833\n",
            "Epoch 84/100\n",
            "12/12 [==============================] - 0s 2ms/step - loss: 0.0403 - accuracy: 1.0000\n",
            "Epoch 85/100\n",
            "12/12 [==============================] - 0s 2ms/step - loss: 0.0499 - accuracy: 1.0000\n",
            "Epoch 86/100\n",
            "12/12 [==============================] - 0s 2ms/step - loss: 0.0572 - accuracy: 1.0000\n",
            "Epoch 87/100\n",
            "12/12 [==============================] - 0s 2ms/step - loss: 0.0297 - accuracy: 1.0000\n",
            "Epoch 88/100\n",
            "12/12 [==============================] - 0s 2ms/step - loss: 0.0344 - accuracy: 1.0000\n",
            "Epoch 89/100\n",
            "12/12 [==============================] - 0s 2ms/step - loss: 0.0236 - accuracy: 1.0000\n",
            "Epoch 90/100\n",
            "12/12 [==============================] - 0s 2ms/step - loss: 0.0309 - accuracy: 1.0000\n",
            "Epoch 91/100\n",
            "12/12 [==============================] - 0s 2ms/step - loss: 0.0550 - accuracy: 1.0000\n",
            "Epoch 92/100\n",
            "12/12 [==============================] - 0s 3ms/step - loss: 0.0426 - accuracy: 1.0000\n",
            "Epoch 93/100\n",
            "12/12 [==============================] - 0s 2ms/step - loss: 0.0300 - accuracy: 1.0000\n",
            "Epoch 94/100\n",
            "12/12 [==============================] - 0s 2ms/step - loss: 0.0200 - accuracy: 1.0000\n",
            "Epoch 95/100\n",
            "12/12 [==============================] - 0s 2ms/step - loss: 0.0509 - accuracy: 1.0000\n",
            "Epoch 96/100\n",
            "12/12 [==============================] - 0s 2ms/step - loss: 0.0254 - accuracy: 1.0000\n",
            "Epoch 97/100\n",
            "12/12 [==============================] - 0s 2ms/step - loss: 0.0242 - accuracy: 1.0000\n",
            "Epoch 98/100\n",
            "12/12 [==============================] - 0s 2ms/step - loss: 0.0192 - accuracy: 1.0000\n",
            "Epoch 99/100\n",
            "12/12 [==============================] - 0s 2ms/step - loss: 0.0419 - accuracy: 1.0000\n",
            "Epoch 100/100\n",
            "12/12 [==============================] - 0s 2ms/step - loss: 0.0280 - accuracy: 1.0000\n"
          ]
        }
      ],
      "source": [
        "model = Sequential()\n",
        "model.add(Dense(256, input_shape=(len(train_x[0]),), activation='relu'))\n",
        "model.add(Dropout(0.25))\n",
        "model.add(Dense(128, activation='tanh'))\n",
        "model.add(Dropout(0.25))\n",
        "model.add(Dense(64, activation='sigmoid'))\n",
        "model.add(Dropout(0.25))\n",
        "model.add(Dense(32, activation='selu'))\n",
        "model.add(Dropout(0.25))\n",
        "model.add(Dense(len(train_y[0]), activation='softmax'))\n",
        "\n",
        "model.compile(loss='categorical_crossentropy', optimizer='adam', metrics=['accuracy'])\n",
        "\n",
        "#fitting and saving the model \n",
        "history = model.fit(np.array(train_x), np.array(train_y), epochs=100, batch_size=5)\n",
        "model.save('chatbot.h5', history) # we will pickle this model to use in the future\n",
        "\n",
        "hist = pd.DataFrame(history.history)\n",
        "hist[\"epoch\"] = history.epoch"
      ]
    },
    {
      "cell_type": "raw",
      "metadata": {
        "id": "JZx_lgMjshlC"
      },
      "source": [
        "The accuracy of the model is 99.22 % which is quite impressive.\n",
        "\n",
        "In the further steps, we will import all the libraries and Train_Bot json data and use the pickled model for the prediction of responses."
      ]
    },
    {
      "cell_type": "code",
      "source": [
        "print(model.summary())"
      ],
      "metadata": {
        "colab": {
          "base_uri": "https://localhost:8080/"
        },
        "id": "kSIslsnx_tVk",
        "outputId": "00706e22-b247-4c36-af6c-2fd3b2d68504"
      },
      "execution_count": 22,
      "outputs": [
        {
          "output_type": "stream",
          "name": "stdout",
          "text": [
            "Model: \"sequential_1\"\n",
            "_________________________________________________________________\n",
            " Layer (type)                Output Shape              Param #   \n",
            "=================================================================\n",
            " dense_5 (Dense)             (None, 256)               35584     \n",
            "                                                                 \n",
            " dropout_4 (Dropout)         (None, 256)               0         \n",
            "                                                                 \n",
            " dense_6 (Dense)             (None, 128)               32896     \n",
            "                                                                 \n",
            " dropout_5 (Dropout)         (None, 128)               0         \n",
            "                                                                 \n",
            " dense_7 (Dense)             (None, 64)                8256      \n",
            "                                                                 \n",
            " dropout_6 (Dropout)         (None, 64)                0         \n",
            "                                                                 \n",
            " dense_8 (Dense)             (None, 32)                2080      \n",
            "                                                                 \n",
            " dropout_7 (Dropout)         (None, 32)                0         \n",
            "                                                                 \n",
            " dense_9 (Dense)             (None, 14)                462       \n",
            "                                                                 \n",
            "=================================================================\n",
            "Total params: 79,278\n",
            "Trainable params: 79,278\n",
            "Non-trainable params: 0\n",
            "_________________________________________________________________\n",
            "None\n"
          ]
        }
      ]
    },
    {
      "cell_type": "markdown",
      "metadata": {
        "id": "SQdaRQkWshlC"
      },
      "source": [
        "### Repeating all the above steps and using the pickled model for the prediction of responses\n",
        "\n",
        "The following portion of code is from the Pykit example and uses the previously created model to predict the answers based on user input."
      ]
    },
    {
      "cell_type": "code",
      "execution_count": 23,
      "metadata": {
        "id": "xZMwR2FUshlC"
      },
      "outputs": [],
      "source": [
        "# load the saved model file\n",
        "model = load_model('chatbot.h5')\n",
        "intents = json.loads(open(\"/content/drive/MyDrive/QA.json\").read())\n",
        "words = pickle.load(open('words.pkl','rb'))\n",
        "classes = pickle.load(open('classes.pkl','rb'))"
      ]
    },
    {
      "cell_type": "code",
      "execution_count": 24,
      "metadata": {
        "id": "C8ctzYIUshlC"
      },
      "outputs": [],
      "source": [
        "def clean_up_sentence(sentence):\n",
        "\n",
        "    # tokenize the pattern - split words into array\n",
        "    sentence_words = nltk.word_tokenize(sentence)\n",
        "    \n",
        "    # stem each word - create short form for word\n",
        "    sentence_words = [lemmatizer.lemmatize(word.lower()) for word in sentence_words]\n",
        "    return sentence_words\n",
        "\n",
        "\n",
        "# return bag of words array: 0 or 1 for each word in the bag that exists in the sentence\n",
        "\n",
        "def bow(sentence, words, show_details=True):\n",
        "\n",
        "    # tokenize the pattern\n",
        "    sentence_words = clean_up_sentence(sentence)\n",
        "\n",
        "    # bag of words - matrix of N words, vocabulary matrix\n",
        "    bag = [0]*len(words) \n",
        "    for s in sentence_words:\n",
        "        for i,w in enumerate(words):\n",
        "            if w == s: \n",
        "               \n",
        "                # assign 1 if current word is in the vocabulary position\n",
        "                bag[i] = 1\n",
        "                if show_details:\n",
        "                    print (\"found in bag: %s\" % w)\n",
        "    return(np.array(bag))\n",
        "\n",
        "def predict_class(sentence, model):\n",
        "   \n",
        "    # filter out predictions below a threshold\n",
        "    p = bow(sentence, words,show_details=False)\n",
        "    res = model.predict(np.array([p]))[0]\n",
        "    error = 0.25\n",
        "    results = [[i,r] for i,r in enumerate(res) if r>error]\n",
        "    \n",
        "    # sort by strength of probability\n",
        "    results.sort(key=lambda x: x[1], reverse=True)\n",
        "    return_list = []\n",
        "    \n",
        "    for r in results:\n",
        "        return_list.append({\"intent\": classes[r[0]], \"probability\": str(r[1])})\n",
        "    return return_list"
      ]
    },
    {
      "cell_type": "code",
      "execution_count": 25,
      "metadata": {
        "id": "Euh-vcN1shlD"
      },
      "outputs": [],
      "source": [
        "# function to get the response from the model\n",
        "\n",
        "def getResponse(ints, intents_json):\n",
        "    tag = ints[0]['intent']\n",
        "    list_of_intents = intents_json['intents']\n",
        "    for i in list_of_intents:\n",
        "        if(i['tag']== tag):\n",
        "            result = random.choice(i['responses'])\n",
        "            break\n",
        "    return result\n",
        "\n",
        "# function to predict the class and get the response\n",
        "\n",
        "def chatbot_response(text):\n",
        "    ints = predict_class(text, model)\n",
        "    res = getResponse(ints, intents)\n",
        "    return res"
      ]
    },
    {
      "cell_type": "code",
      "execution_count": 26,
      "metadata": {
        "id": "0L7Xq1Z4shlD"
      },
      "outputs": [],
      "source": [
        "# function to start the chat bot which will continue till the user type 'end'\n",
        "\n",
        "def start_chat():\n",
        "    print(\"Bot: 788 CHATBOT! Ask away :)\\n\\n\")\n",
        "    while True:\n",
        "        inp = str(input()).lower()\n",
        "        if inp.lower()==\"end\":\n",
        "            break\n",
        "        if inp.lower()== '' or inp.lower()== '*':\n",
        "            print('Please re-phrase your query!')\n",
        "            print(\"-\"*50)\n",
        "        else:\n",
        "            print(f\"Bot: {chatbot_response(inp)}\"+'\\n')\n",
        "            print(\"-\"*50)"
      ]
    },
    {
      "cell_type": "markdown",
      "metadata": {
        "id": "obm5NUt9shlD"
      },
      "source": [
        "## Chatting with BOT using the Command Line Option"
      ]
    },
    {
      "cell_type": "code",
      "execution_count": 27,
      "metadata": {
        "colab": {
          "base_uri": "https://localhost:8080/"
        },
        "id": "4U0yon_pshlD",
        "outputId": "93e68e6c-b3e1-4a53-9c56-650678abc875"
      },
      "outputs": [
        {
          "name": "stdout",
          "output_type": "stream",
          "text": [
            "Bot: 788 CHATBOT! Ask away :)\n",
            "\n",
            "\n",
            "was abraham lincoln sixteenth president\n",
            "Bot: Yes\n",
            "\n",
            "--------------------------------------------------\n",
            "hwo long was lincoln's education\n",
            "Bot: 18 Months\n",
            "\n",
            "--------------------------------------------------\n",
            "how many species of elephant are there\n",
            "Bot: The African Elephant genus contains two (or, arguably, three) living species.\n",
            "\n",
            "--------------------------------------------------\n",
            "what are the parts of a beetle\n",
            "Bot: The head, the thorax, and the abdomen\n",
            "\n",
            "--------------------------------------------------\n",
            "why do people in eqypt live close to the nile river?\n",
            "Bot: The only arable agricultural land is found there\n",
            "\n",
            "--------------------------------------------------\n",
            "Where did champlain establish a settlement other than port royal?\n",
            "Bot: Quebec City\n",
            "\n",
            "--------------------------------------------------\n",
            "What species of duck catch large fish?\n",
            "Bot: The smew\n",
            "\n",
            "--------------------------------------------------\n",
            "end\n"
          ]
        }
      ],
      "source": [
        "# start the chat bot\n",
        "start_chat()"
      ]
    },
    {
      "cell_type": "markdown",
      "source": [
        "# Plotting Training Loss"
      ],
      "metadata": {
        "id": "ZGPu0it4jpuo"
      }
    },
    {
      "cell_type": "code",
      "source": [
        "def plot_history():\n",
        "    plt.figure()\n",
        "    plt.xlabel('Epoch')\n",
        "    plt.ylabel('Loss')\n",
        "    plt.plot(hist['epoch'], hist['loss'], label='Train Error')\n",
        "    plt.legend()\n",
        "    plt.ylim([0, 4])\n",
        "\n",
        "plot_history()"
      ],
      "metadata": {
        "colab": {
          "base_uri": "https://localhost:8080/",
          "height": 283
        },
        "id": "LgrbgCriO71z",
        "outputId": "f36adf4f-7c67-4628-9b86-8917b1b04685"
      },
      "execution_count": 28,
      "outputs": [
        {
          "output_type": "display_data",
          "data": {
            "text/plain": [
              "<Figure size 432x288 with 1 Axes>"
            ],
            "image/png": "[encoded data removed]"
          },
          "metadata": {
            "needs_background": "light"
          }
        }
      ]
    }
  ],
  "metadata": {
    "kernelspec": {
      "display_name": "Python 3",
      "language": "python",
      "name": "python3"
    },
    "language_info": {
      "codemirror_mode": {
        "name": "ipython",
        "version": 3
      },
      "file_extension": ".py",
      "mimetype": "text/x-python",
      "name": "python",
      "nbconvert_exporter": "python",
      "pygments_lexer": "ipython3",
      "version": "3.8.8"
    },
    "colab": {
      "name": "788_Project_Chatbot_PykitExample.ipynb",
      "provenance": [],
      "collapsed_sections": []
    }
  },
  "nbformat": 4,
  "nbformat_minor": 0
}